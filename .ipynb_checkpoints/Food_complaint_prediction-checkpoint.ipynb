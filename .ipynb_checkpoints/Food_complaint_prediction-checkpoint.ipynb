{
 "cells": [
  {
   "cell_type": "markdown",
   "id": "70d5bed5-0cd8-461e-bb03-77d3ab613e40",
   "metadata": {},
   "source": [
    "# Food Complaint Prediction"
   ]
  },
  {
   "cell_type": "code",
   "execution_count": 3,
   "id": "c1991956-2845-494d-88b7-29637101cc84",
   "metadata": {},
   "outputs": [],
   "source": [
    "import pandas as pd\n",
    "import numpy as np\n",
    "import joblib\n",
    "import matplotlib.pyplot as plt\n",
    "import seaborn as sns\n",
    "\n",
    "from sklearn.model_selection import train_test_split\n",
    "from sklearn.preprocessing import OneHotEncoder,StandardScaler\n",
    "from sklearn.compose import ColumnTransformer\n",
    "from imblearn.over_sampling import SMOTE\n",
    "from sklearn.tree import DecisionTreeClassifier\n",
    "from sklearn.ensemble import RandomForestClassifier, AdaBoostClassifier, GradientBoostingClassifier\n",
    "from xgboost import XGBClassifier\n",
    "from sklearn.metrics import accuracy_score,precision_score,recall_score,f1_score,roc_auc_score\n"
   ]
  },
  {
   "cell_type": "code",
   "execution_count": 4,
   "id": "4b6c8bc7-fb12-4b7b-8932-f1773af16f2a",
   "metadata": {},
   "outputs": [],
   "source": [
    "df=pd.read_csv(\"pune_food_delivery_cleaned.csv\")"
   ]
  },
  {
   "cell_type": "code",
   "execution_count": 5,
   "id": "73008389-05e9-406f-9050-a0b6240e2bfa",
   "metadata": {},
   "outputs": [
    {
     "data": {
      "text/html": [
       "<div>\n",
       "<style scoped>\n",
       "    .dataframe tbody tr th:only-of-type {\n",
       "        vertical-align: middle;\n",
       "    }\n",
       "\n",
       "    .dataframe tbody tr th {\n",
       "        vertical-align: top;\n",
       "    }\n",
       "\n",
       "    .dataframe thead th {\n",
       "        text-align: right;\n",
       "    }\n",
       "</style>\n",
       "<table border=\"1\" class=\"dataframe\">\n",
       "  <thead>\n",
       "    <tr style=\"text-align: right;\">\n",
       "      <th></th>\n",
       "      <th>driver_rating</th>\n",
       "      <th>food_type</th>\n",
       "      <th>weather_condition</th>\n",
       "      <th>packaging_type</th>\n",
       "      <th>customer_past_complaints</th>\n",
       "      <th>city</th>\n",
       "      <th>delivery_duration</th>\n",
       "      <th>complaint</th>\n",
       "    </tr>\n",
       "  </thead>\n",
       "  <tbody>\n",
       "    <tr>\n",
       "      <th>0</th>\n",
       "      <td>3.1</td>\n",
       "      <td>Veg</td>\n",
       "      <td>Clear</td>\n",
       "      <td>Foil</td>\n",
       "      <td>1</td>\n",
       "      <td>Swargate</td>\n",
       "      <td>19.7</td>\n",
       "      <td>0</td>\n",
       "    </tr>\n",
       "    <tr>\n",
       "      <th>1</th>\n",
       "      <td>3.4</td>\n",
       "      <td>Veg</td>\n",
       "      <td>Fog</td>\n",
       "      <td>Plastic</td>\n",
       "      <td>0</td>\n",
       "      <td>Baner</td>\n",
       "      <td>42.0</td>\n",
       "      <td>0</td>\n",
       "    </tr>\n",
       "    <tr>\n",
       "      <th>2</th>\n",
       "      <td>1.1</td>\n",
       "      <td>Veg</td>\n",
       "      <td>Rain</td>\n",
       "      <td>Paper</td>\n",
       "      <td>5</td>\n",
       "      <td>Wakad</td>\n",
       "      <td>23.9</td>\n",
       "      <td>1</td>\n",
       "    </tr>\n",
       "    <tr>\n",
       "      <th>3</th>\n",
       "      <td>1.2</td>\n",
       "      <td>Veg</td>\n",
       "      <td>Rain</td>\n",
       "      <td>Plastic</td>\n",
       "      <td>3</td>\n",
       "      <td>Wakad</td>\n",
       "      <td>43.5</td>\n",
       "      <td>1</td>\n",
       "    </tr>\n",
       "    <tr>\n",
       "      <th>4</th>\n",
       "      <td>3.3</td>\n",
       "      <td>Veg</td>\n",
       "      <td>Clear</td>\n",
       "      <td>Plastic</td>\n",
       "      <td>4</td>\n",
       "      <td>Koregaon Park</td>\n",
       "      <td>49.5</td>\n",
       "      <td>1</td>\n",
       "    </tr>\n",
       "    <tr>\n",
       "      <th>...</th>\n",
       "      <td>...</td>\n",
       "      <td>...</td>\n",
       "      <td>...</td>\n",
       "      <td>...</td>\n",
       "      <td>...</td>\n",
       "      <td>...</td>\n",
       "      <td>...</td>\n",
       "      <td>...</td>\n",
       "    </tr>\n",
       "    <tr>\n",
       "      <th>9995</th>\n",
       "      <td>4.2</td>\n",
       "      <td>Non-Veg</td>\n",
       "      <td>Rain</td>\n",
       "      <td>Foil</td>\n",
       "      <td>1</td>\n",
       "      <td>Baner</td>\n",
       "      <td>24.7</td>\n",
       "      <td>0</td>\n",
       "    </tr>\n",
       "    <tr>\n",
       "      <th>9996</th>\n",
       "      <td>3.0</td>\n",
       "      <td>Non-Veg</td>\n",
       "      <td>Fog</td>\n",
       "      <td>Foil</td>\n",
       "      <td>4</td>\n",
       "      <td>Baner</td>\n",
       "      <td>18.9</td>\n",
       "      <td>0</td>\n",
       "    </tr>\n",
       "    <tr>\n",
       "      <th>9997</th>\n",
       "      <td>3.2</td>\n",
       "      <td>Non-Veg</td>\n",
       "      <td>Clear</td>\n",
       "      <td>Foil</td>\n",
       "      <td>3</td>\n",
       "      <td>Hinjewadi</td>\n",
       "      <td>37.2</td>\n",
       "      <td>0</td>\n",
       "    </tr>\n",
       "    <tr>\n",
       "      <th>9998</th>\n",
       "      <td>3.7</td>\n",
       "      <td>Non-Veg</td>\n",
       "      <td>Storm</td>\n",
       "      <td>Box</td>\n",
       "      <td>0</td>\n",
       "      <td>Hinjewadi</td>\n",
       "      <td>73.3</td>\n",
       "      <td>0</td>\n",
       "    </tr>\n",
       "    <tr>\n",
       "      <th>9999</th>\n",
       "      <td>4.3</td>\n",
       "      <td>Veg</td>\n",
       "      <td>Rain</td>\n",
       "      <td>Box</td>\n",
       "      <td>0</td>\n",
       "      <td>Hinjewadi</td>\n",
       "      <td>26.6</td>\n",
       "      <td>0</td>\n",
       "    </tr>\n",
       "  </tbody>\n",
       "</table>\n",
       "<p>10000 rows × 8 columns</p>\n",
       "</div>"
      ],
      "text/plain": [
       "      driver_rating food_type weather_condition packaging_type  \\\n",
       "0               3.1       Veg             Clear           Foil   \n",
       "1               3.4       Veg               Fog        Plastic   \n",
       "2               1.1       Veg              Rain          Paper   \n",
       "3               1.2       Veg              Rain        Plastic   \n",
       "4               3.3       Veg             Clear        Plastic   \n",
       "...             ...       ...               ...            ...   \n",
       "9995            4.2   Non-Veg              Rain           Foil   \n",
       "9996            3.0   Non-Veg               Fog           Foil   \n",
       "9997            3.2   Non-Veg             Clear           Foil   \n",
       "9998            3.7   Non-Veg             Storm            Box   \n",
       "9999            4.3       Veg              Rain            Box   \n",
       "\n",
       "      customer_past_complaints           city  delivery_duration  complaint  \n",
       "0                            1       Swargate               19.7          0  \n",
       "1                            0          Baner               42.0          0  \n",
       "2                            5          Wakad               23.9          1  \n",
       "3                            3          Wakad               43.5          1  \n",
       "4                            4  Koregaon Park               49.5          1  \n",
       "...                        ...            ...                ...        ...  \n",
       "9995                         1          Baner               24.7          0  \n",
       "9996                         4          Baner               18.9          0  \n",
       "9997                         3      Hinjewadi               37.2          0  \n",
       "9998                         0      Hinjewadi               73.3          0  \n",
       "9999                         0      Hinjewadi               26.6          0  \n",
       "\n",
       "[10000 rows x 8 columns]"
      ]
     },
     "execution_count": 5,
     "metadata": {},
     "output_type": "execute_result"
    }
   ],
   "source": [
    "df"
   ]
  },
  {
   "cell_type": "code",
   "execution_count": 6,
   "id": "7b619d39-87a1-49be-b686-ab7f915150da",
   "metadata": {},
   "outputs": [
    {
     "name": "stdout",
     "output_type": "stream",
     "text": [
      "<class 'pandas.core.frame.DataFrame'>\n",
      "RangeIndex: 10000 entries, 0 to 9999\n",
      "Data columns (total 8 columns):\n",
      " #   Column                    Non-Null Count  Dtype  \n",
      "---  ------                    --------------  -----  \n",
      " 0   driver_rating             10000 non-null  float64\n",
      " 1   food_type                 10000 non-null  object \n",
      " 2   weather_condition         10000 non-null  object \n",
      " 3   packaging_type            10000 non-null  object \n",
      " 4   customer_past_complaints  10000 non-null  int64  \n",
      " 5   city                      10000 non-null  object \n",
      " 6   delivery_duration         10000 non-null  float64\n",
      " 7   complaint                 10000 non-null  int64  \n",
      "dtypes: float64(2), int64(2), object(4)\n",
      "memory usage: 625.1+ KB\n"
     ]
    }
   ],
   "source": [
    "df.info()"
   ]
  },
  {
   "cell_type": "code",
   "execution_count": 7,
   "id": "3a429765-e3e1-49db-9f02-b4053f1a5f3f",
   "metadata": {},
   "outputs": [
    {
     "data": {
      "text/plain": [
       "np.int64(0)"
      ]
     },
     "execution_count": 7,
     "metadata": {},
     "output_type": "execute_result"
    }
   ],
   "source": [
    "df.duplicated().sum()"
   ]
  },
  {
   "cell_type": "code",
   "execution_count": 8,
   "id": "f7c66f2b-faa6-43a3-a8d4-3e356f1a6aad",
   "metadata": {},
   "outputs": [
    {
     "data": {
      "text/plain": [
       "driver_rating               0\n",
       "food_type                   0\n",
       "weather_condition           0\n",
       "packaging_type              0\n",
       "customer_past_complaints    0\n",
       "city                        0\n",
       "delivery_duration           0\n",
       "complaint                   0\n",
       "dtype: int64"
      ]
     },
     "execution_count": 8,
     "metadata": {},
     "output_type": "execute_result"
    }
   ],
   "source": [
    "df.isnull().sum()"
   ]
  },
  {
   "cell_type": "code",
   "execution_count": 9,
   "id": "19f13f19-1b68-421e-8a13-8930d6b9ccb9",
   "metadata": {},
   "outputs": [
    {
     "data": {
      "text/plain": [
       "array(['Veg', 'Non-Veg'], dtype=object)"
      ]
     },
     "execution_count": 9,
     "metadata": {},
     "output_type": "execute_result"
    }
   ],
   "source": [
    "df['food_type'].unique()"
   ]
  },
  {
   "cell_type": "code",
   "execution_count": 10,
   "id": "2f72a83f-c8b6-4db7-a009-20077074c592",
   "metadata": {
    "scrolled": true
   },
   "outputs": [
    {
     "data": {
      "text/plain": [
       "array(['Swargate', 'Baner', 'Wakad', 'Koregaon Park', 'Hadapsar',\n",
       "       'Shivaji Nagar', 'Kothrud', 'Hinjewadi', 'Viman Nagar', 'Pimpri'],\n",
       "      dtype=object)"
      ]
     },
     "execution_count": 10,
     "metadata": {},
     "output_type": "execute_result"
    }
   ],
   "source": [
    "df['city'].unique()"
   ]
  },
  {
   "cell_type": "code",
   "execution_count": 11,
   "id": "dcf26c38-1914-4ea4-9e72-698dcc34f379",
   "metadata": {},
   "outputs": [
    {
     "data": {
      "text/plain": [
       "array(['Clear', 'Fog', 'Rain', 'Storm'], dtype=object)"
      ]
     },
     "execution_count": 11,
     "metadata": {},
     "output_type": "execute_result"
    }
   ],
   "source": [
    "df['weather_condition'].unique()"
   ]
  },
  {
   "cell_type": "code",
   "execution_count": 12,
   "id": "fac65fd9-1a36-4459-ac26-cae8cf348f69",
   "metadata": {},
   "outputs": [
    {
     "data": {
      "text/plain": [
       "array(['Foil', 'Plastic', 'Paper', 'Box'], dtype=object)"
      ]
     },
     "execution_count": 12,
     "metadata": {},
     "output_type": "execute_result"
    }
   ],
   "source": [
    "df['packaging_type'].unique()"
   ]
  },
  {
   "cell_type": "code",
   "execution_count": 13,
   "id": "9f8d2496-3c7d-469f-a872-b2eea27768ff",
   "metadata": {},
   "outputs": [
    {
     "name": "stdout",
     "output_type": "stream",
     "text": [
      "complaint\n",
      "0    6277\n",
      "1    3723\n",
      "Name: count, dtype: int64\n"
     ]
    }
   ],
   "source": [
    "print(df['complaint'].value_counts())"
   ]
  },
  {
   "cell_type": "code",
   "execution_count": 14,
   "id": "3d9b9433-204b-4997-b825-f1035e272e8f",
   "metadata": {},
   "outputs": [
    {
     "data": {
      "text/html": [
       "<div>\n",
       "<style scoped>\n",
       "    .dataframe tbody tr th:only-of-type {\n",
       "        vertical-align: middle;\n",
       "    }\n",
       "\n",
       "    .dataframe tbody tr th {\n",
       "        vertical-align: top;\n",
       "    }\n",
       "\n",
       "    .dataframe thead th {\n",
       "        text-align: right;\n",
       "    }\n",
       "</style>\n",
       "<table border=\"1\" class=\"dataframe\">\n",
       "  <thead>\n",
       "    <tr style=\"text-align: right;\">\n",
       "      <th></th>\n",
       "      <th>driver_rating</th>\n",
       "      <th>customer_past_complaints</th>\n",
       "      <th>delivery_duration</th>\n",
       "      <th>complaint</th>\n",
       "    </tr>\n",
       "  </thead>\n",
       "  <tbody>\n",
       "    <tr>\n",
       "      <th>count</th>\n",
       "      <td>10000.000000</td>\n",
       "      <td>10000.000000</td>\n",
       "      <td>10000.000000</td>\n",
       "      <td>10000.000000</td>\n",
       "    </tr>\n",
       "    <tr>\n",
       "      <th>mean</th>\n",
       "      <td>2.968570</td>\n",
       "      <td>2.518600</td>\n",
       "      <td>50.318330</td>\n",
       "      <td>0.372300</td>\n",
       "    </tr>\n",
       "    <tr>\n",
       "      <th>std</th>\n",
       "      <td>1.151225</td>\n",
       "      <td>1.716726</td>\n",
       "      <td>22.996752</td>\n",
       "      <td>0.483442</td>\n",
       "    </tr>\n",
       "    <tr>\n",
       "      <th>min</th>\n",
       "      <td>1.000000</td>\n",
       "      <td>0.000000</td>\n",
       "      <td>10.000000</td>\n",
       "      <td>0.000000</td>\n",
       "    </tr>\n",
       "    <tr>\n",
       "      <th>25%</th>\n",
       "      <td>2.000000</td>\n",
       "      <td>1.000000</td>\n",
       "      <td>30.800000</td>\n",
       "      <td>0.000000</td>\n",
       "    </tr>\n",
       "    <tr>\n",
       "      <th>50%</th>\n",
       "      <td>3.000000</td>\n",
       "      <td>3.000000</td>\n",
       "      <td>50.450000</td>\n",
       "      <td>0.000000</td>\n",
       "    </tr>\n",
       "    <tr>\n",
       "      <th>75%</th>\n",
       "      <td>4.000000</td>\n",
       "      <td>4.000000</td>\n",
       "      <td>70.325000</td>\n",
       "      <td>1.000000</td>\n",
       "    </tr>\n",
       "    <tr>\n",
       "      <th>max</th>\n",
       "      <td>5.000000</td>\n",
       "      <td>5.000000</td>\n",
       "      <td>90.000000</td>\n",
       "      <td>1.000000</td>\n",
       "    </tr>\n",
       "  </tbody>\n",
       "</table>\n",
       "</div>"
      ],
      "text/plain": [
       "       driver_rating  customer_past_complaints  delivery_duration  \\\n",
       "count   10000.000000              10000.000000       10000.000000   \n",
       "mean        2.968570                  2.518600          50.318330   \n",
       "std         1.151225                  1.716726          22.996752   \n",
       "min         1.000000                  0.000000          10.000000   \n",
       "25%         2.000000                  1.000000          30.800000   \n",
       "50%         3.000000                  3.000000          50.450000   \n",
       "75%         4.000000                  4.000000          70.325000   \n",
       "max         5.000000                  5.000000          90.000000   \n",
       "\n",
       "          complaint  \n",
       "count  10000.000000  \n",
       "mean       0.372300  \n",
       "std        0.483442  \n",
       "min        0.000000  \n",
       "25%        0.000000  \n",
       "50%        0.000000  \n",
       "75%        1.000000  \n",
       "max        1.000000  "
      ]
     },
     "execution_count": 14,
     "metadata": {},
     "output_type": "execute_result"
    }
   ],
   "source": [
    "df.describe()"
   ]
  },
  {
   "cell_type": "code",
   "execution_count": 15,
   "id": "07646029-b7e1-40db-ab80-e7020c6659de",
   "metadata": {},
   "outputs": [
    {
     "name": "stdout",
     "output_type": "stream",
     "text": [
      "['driver_rating', 'customer_past_complaints', 'delivery_duration', 'complaint']\n"
     ]
    }
   ],
   "source": [
    "numerical_cols = df.select_dtypes(include=['int64', 'float64']).columns.tolist()\n",
    "print(numerical_cols)"
   ]
  },
  {
   "cell_type": "markdown",
   "id": "ff87475a-bab5-4a19-af06-1bf9d7ccb7f5",
   "metadata": {},
   "source": [
    "# Skewness"
   ]
  },
  {
   "cell_type": "code",
   "execution_count": 16,
   "id": "bbdb0015-9442-4120-a127-81b9d5fb98d7",
   "metadata": {},
   "outputs": [
    {
     "name": "stdout",
     "output_type": "stream",
     "text": [
      "\n",
      "Skewness of numeric features:\n",
      "driver_rating: 0.04\n"
     ]
    },
    {
     "data": {
      "image/png": "[encoded data removed]",
      "text/plain": [
       "<Figure size 500x300 with 1 Axes>"
      ]
     },
     "metadata": {},
     "output_type": "display_data"
    },
    {
     "name": "stdout",
     "output_type": "stream",
     "text": [
      "customer_past_complaints: -0.02\n"
     ]
    },
    {
     "data": {
      "image/png": "[encoded data removed]",
      "text/plain": [
       "<Figure size 500x300 with 1 Axes>"
      ]
     },
     "metadata": {},
     "output_type": "display_data"
    },
    {
     "name": "stdout",
     "output_type": "stream",
     "text": [
      "delivery_duration: -0.02\n"
     ]
    },
    {
     "data": {
      "image/png": "[encoded data removed]",
      "text/plain": [
       "<Figure size 500x300 with 1 Axes>"
      ]
     },
     "metadata": {},
     "output_type": "display_data"
    },
    {
     "name": "stdout",
     "output_type": "stream",
     "text": [
      "complaint: 0.53\n"
     ]
    },
    {
     "data": {
      "image/png": "[encoded data removed]",
      "text/plain": [
       "<Figure size 500x300 with 1 Axes>"
      ]
     },
     "metadata": {},
     "output_type": "display_data"
    }
   ],
   "source": [
    "print(\"\\nSkewness of numeric features:\")\n",
    "for col in numerical_cols:\n",
    "    skew_val = df[col].skew()\n",
    "    print(f\"{col}: {skew_val:.2f}\")\n",
    "    \n",
    "    # Optional: Plot histogram\n",
    "    plt.figure(figsize=(5, 3))\n",
    "    sns.histplot(df[col], kde=True)\n",
    "    plt.title(f\"Skewness of {col}: {skew_val:.2f}\")\n",
    "    plt.show()\n"
   ]
  },
  {
   "cell_type": "markdown",
   "id": "3a25230b-fb71-4329-bd67-0cc44dfda776",
   "metadata": {},
   "source": [
    "# Outlier"
   ]
  },
  {
   "cell_type": "code",
   "execution_count": 17,
   "id": "11c54f1c-1d78-4615-a830-77375e7432dd",
   "metadata": {},
   "outputs": [
    {
     "data": {
      "image/png": "[encoded data removed]",
      "text/plain": [
       "<Figure size 600x300 with 1 Axes>"
      ]
     },
     "metadata": {},
     "output_type": "display_data"
    },
    {
     "data": {
      "image/png": "[encoded data removed]",
      "text/plain": [
       "<Figure size 600x300 with 1 Axes>"
      ]
     },
     "metadata": {},
     "output_type": "display_data"
    },
    {
     "data": {
      "image/png": "[encoded data removed]",
      "text/plain": [
       "<Figure size 600x300 with 1 Axes>"
      ]
     },
     "metadata": {},
     "output_type": "display_data"
    },
    {
     "data": {
      "image/png": "[encoded data removed]",
      "text/plain": [
       "<Figure size 600x300 with 1 Axes>"
      ]
     },
     "metadata": {},
     "output_type": "display_data"
    }
   ],
   "source": [
    "for column in numerical_cols:\n",
    "    plt.figure(figsize=(6, 3))\n",
    "    sns.boxplot(x=df[column])\n",
    "    plt.title(f'Boxplot for {column}')\n",
    "    plt.show()"
   ]
  },
  {
   "cell_type": "markdown",
   "id": "cc323f4b-9de0-41d2-bbcc-f2e7f1d488d3",
   "metadata": {},
   "source": [
    "# Correlation Matrix"
   ]
  },
  {
   "cell_type": "code",
   "execution_count": 22,
   "id": "12384606-ef0b-4d3d-b139-88a8bdb50dca",
   "metadata": {},
   "outputs": [
    {
     "data": {
      "image/png": "[encoded data removed]",
      "text/plain": [
       "<Figure size 800x600 with 2 Axes>"
      ]
     },
     "metadata": {},
     "output_type": "display_data"
    }
   ],
   "source": [
    "correlation_matrix = df.corr(numeric_only=True)\n",
    "plt.figure(figsize=(8, 6))\n",
    "sns.heatmap(correlation_matrix, annot=True, cmap='coolwarm', fmt=\".2f\")\n",
    "plt.title(\"Correlation Heatmap\")\n",
    "plt.show()\n"
   ]
  },
  {
   "cell_type": "code",
   "execution_count": 23,
   "id": "f9175d7e-b2d0-48e0-934a-6eff4c7f6d81",
   "metadata": {},
   "outputs": [],
   "source": [
    "cat_cols = ['food_type', 'city', 'weather_condition', 'packaging_type']\n",
    "target_col = 'complaint'\n",
    "\n",
    "# Train-test split\n",
    "x = df.drop(columns=[target_col])\n",
    "y = df[target_col]"
   ]
  },
  {
   "cell_type": "code",
   "execution_count": 24,
   "id": "b21b3f31-79dc-47ff-bc12-bcffeb775737",
   "metadata": {},
   "outputs": [
    {
     "data": {
      "text/html": [
       "<div>\n",
       "<style scoped>\n",
       "    .dataframe tbody tr th:only-of-type {\n",
       "        vertical-align: middle;\n",
       "    }\n",
       "\n",
       "    .dataframe tbody tr th {\n",
       "        vertical-align: top;\n",
       "    }\n",
       "\n",
       "    .dataframe thead th {\n",
       "        text-align: right;\n",
       "    }\n",
       "</style>\n",
       "<table border=\"1\" class=\"dataframe\">\n",
       "  <thead>\n",
       "    <tr style=\"text-align: right;\">\n",
       "      <th></th>\n",
       "      <th>driver_rating</th>\n",
       "      <th>food_type</th>\n",
       "      <th>weather_condition</th>\n",
       "      <th>packaging_type</th>\n",
       "      <th>customer_past_complaints</th>\n",
       "      <th>city</th>\n",
       "      <th>delivery_duration</th>\n",
       "    </tr>\n",
       "  </thead>\n",
       "  <tbody>\n",
       "    <tr>\n",
       "      <th>0</th>\n",
       "      <td>3.1</td>\n",
       "      <td>Veg</td>\n",
       "      <td>Clear</td>\n",
       "      <td>Foil</td>\n",
       "      <td>1</td>\n",
       "      <td>Swargate</td>\n",
       "      <td>19.7</td>\n",
       "    </tr>\n",
       "    <tr>\n",
       "      <th>1</th>\n",
       "      <td>3.4</td>\n",
       "      <td>Veg</td>\n",
       "      <td>Fog</td>\n",
       "      <td>Plastic</td>\n",
       "      <td>0</td>\n",
       "      <td>Baner</td>\n",
       "      <td>42.0</td>\n",
       "    </tr>\n",
       "    <tr>\n",
       "      <th>2</th>\n",
       "      <td>1.1</td>\n",
       "      <td>Veg</td>\n",
       "      <td>Rain</td>\n",
       "      <td>Paper</td>\n",
       "      <td>5</td>\n",
       "      <td>Wakad</td>\n",
       "      <td>23.9</td>\n",
       "    </tr>\n",
       "    <tr>\n",
       "      <th>3</th>\n",
       "      <td>1.2</td>\n",
       "      <td>Veg</td>\n",
       "      <td>Rain</td>\n",
       "      <td>Plastic</td>\n",
       "      <td>3</td>\n",
       "      <td>Wakad</td>\n",
       "      <td>43.5</td>\n",
       "    </tr>\n",
       "    <tr>\n",
       "      <th>4</th>\n",
       "      <td>3.3</td>\n",
       "      <td>Veg</td>\n",
       "      <td>Clear</td>\n",
       "      <td>Plastic</td>\n",
       "      <td>4</td>\n",
       "      <td>Koregaon Park</td>\n",
       "      <td>49.5</td>\n",
       "    </tr>\n",
       "    <tr>\n",
       "      <th>...</th>\n",
       "      <td>...</td>\n",
       "      <td>...</td>\n",
       "      <td>...</td>\n",
       "      <td>...</td>\n",
       "      <td>...</td>\n",
       "      <td>...</td>\n",
       "      <td>...</td>\n",
       "    </tr>\n",
       "    <tr>\n",
       "      <th>9995</th>\n",
       "      <td>4.2</td>\n",
       "      <td>Non-Veg</td>\n",
       "      <td>Rain</td>\n",
       "      <td>Foil</td>\n",
       "      <td>1</td>\n",
       "      <td>Baner</td>\n",
       "      <td>24.7</td>\n",
       "    </tr>\n",
       "    <tr>\n",
       "      <th>9996</th>\n",
       "      <td>3.0</td>\n",
       "      <td>Non-Veg</td>\n",
       "      <td>Fog</td>\n",
       "      <td>Foil</td>\n",
       "      <td>4</td>\n",
       "      <td>Baner</td>\n",
       "      <td>18.9</td>\n",
       "    </tr>\n",
       "    <tr>\n",
       "      <th>9997</th>\n",
       "      <td>3.2</td>\n",
       "      <td>Non-Veg</td>\n",
       "      <td>Clear</td>\n",
       "      <td>Foil</td>\n",
       "      <td>3</td>\n",
       "      <td>Hinjewadi</td>\n",
       "      <td>37.2</td>\n",
       "    </tr>\n",
       "    <tr>\n",
       "      <th>9998</th>\n",
       "      <td>3.7</td>\n",
       "      <td>Non-Veg</td>\n",
       "      <td>Storm</td>\n",
       "      <td>Box</td>\n",
       "      <td>0</td>\n",
       "      <td>Hinjewadi</td>\n",
       "      <td>73.3</td>\n",
       "    </tr>\n",
       "    <tr>\n",
       "      <th>9999</th>\n",
       "      <td>4.3</td>\n",
       "      <td>Veg</td>\n",
       "      <td>Rain</td>\n",
       "      <td>Box</td>\n",
       "      <td>0</td>\n",
       "      <td>Hinjewadi</td>\n",
       "      <td>26.6</td>\n",
       "    </tr>\n",
       "  </tbody>\n",
       "</table>\n",
       "<p>10000 rows × 7 columns</p>\n",
       "</div>"
      ],
      "text/plain": [
       "      driver_rating food_type weather_condition packaging_type  \\\n",
       "0               3.1       Veg             Clear           Foil   \n",
       "1               3.4       Veg               Fog        Plastic   \n",
       "2               1.1       Veg              Rain          Paper   \n",
       "3               1.2       Veg              Rain        Plastic   \n",
       "4               3.3       Veg             Clear        Plastic   \n",
       "...             ...       ...               ...            ...   \n",
       "9995            4.2   Non-Veg              Rain           Foil   \n",
       "9996            3.0   Non-Veg               Fog           Foil   \n",
       "9997            3.2   Non-Veg             Clear           Foil   \n",
       "9998            3.7   Non-Veg             Storm            Box   \n",
       "9999            4.3       Veg              Rain            Box   \n",
       "\n",
       "      customer_past_complaints           city  delivery_duration  \n",
       "0                            1       Swargate               19.7  \n",
       "1                            0          Baner               42.0  \n",
       "2                            5          Wakad               23.9  \n",
       "3                            3          Wakad               43.5  \n",
       "4                            4  Koregaon Park               49.5  \n",
       "...                        ...            ...                ...  \n",
       "9995                         1          Baner               24.7  \n",
       "9996                         4          Baner               18.9  \n",
       "9997                         3      Hinjewadi               37.2  \n",
       "9998                         0      Hinjewadi               73.3  \n",
       "9999                         0      Hinjewadi               26.6  \n",
       "\n",
       "[10000 rows x 7 columns]"
      ]
     },
     "execution_count": 24,
     "metadata": {},
     "output_type": "execute_result"
    }
   ],
   "source": [
    "x"
   ]
  },
  {
   "cell_type": "code",
   "execution_count": 25,
   "id": "0d6cedaf-a771-4864-900c-23a5c3cdaa32",
   "metadata": {},
   "outputs": [],
   "source": [
    "x_train, x_test, y_train, y_test = train_test_split(x, y, test_size=0.2, random_state=42)"
   ]
  },
  {
   "cell_type": "code",
   "execution_count": 26,
   "id": "2c4c506b-0e8b-4faf-85b0-08980d740575",
   "metadata": {},
   "outputs": [
    {
     "data": {
      "text/html": [
       "<div>\n",
       "<style scoped>\n",
       "    .dataframe tbody tr th:only-of-type {\n",
       "        vertical-align: middle;\n",
       "    }\n",
       "\n",
       "    .dataframe tbody tr th {\n",
       "        vertical-align: top;\n",
       "    }\n",
       "\n",
       "    .dataframe thead th {\n",
       "        text-align: right;\n",
       "    }\n",
       "</style>\n",
       "<table border=\"1\" class=\"dataframe\">\n",
       "  <thead>\n",
       "    <tr style=\"text-align: right;\">\n",
       "      <th></th>\n",
       "      <th>driver_rating</th>\n",
       "      <th>food_type</th>\n",
       "      <th>weather_condition</th>\n",
       "      <th>packaging_type</th>\n",
       "      <th>customer_past_complaints</th>\n",
       "      <th>city</th>\n",
       "      <th>delivery_duration</th>\n",
       "    </tr>\n",
       "  </thead>\n",
       "  <tbody>\n",
       "    <tr>\n",
       "      <th>9254</th>\n",
       "      <td>1.7</td>\n",
       "      <td>Non-Veg</td>\n",
       "      <td>Fog</td>\n",
       "      <td>Box</td>\n",
       "      <td>3</td>\n",
       "      <td>Wakad</td>\n",
       "      <td>35.2</td>\n",
       "    </tr>\n",
       "    <tr>\n",
       "      <th>1561</th>\n",
       "      <td>4.4</td>\n",
       "      <td>Veg</td>\n",
       "      <td>Rain</td>\n",
       "      <td>Plastic</td>\n",
       "      <td>2</td>\n",
       "      <td>Kothrud</td>\n",
       "      <td>87.0</td>\n",
       "    </tr>\n",
       "    <tr>\n",
       "      <th>1670</th>\n",
       "      <td>4.0</td>\n",
       "      <td>Veg</td>\n",
       "      <td>Storm</td>\n",
       "      <td>Box</td>\n",
       "      <td>1</td>\n",
       "      <td>Pimpri</td>\n",
       "      <td>44.8</td>\n",
       "    </tr>\n",
       "    <tr>\n",
       "      <th>6087</th>\n",
       "      <td>1.2</td>\n",
       "      <td>Veg</td>\n",
       "      <td>Storm</td>\n",
       "      <td>Plastic</td>\n",
       "      <td>5</td>\n",
       "      <td>Viman Nagar</td>\n",
       "      <td>25.7</td>\n",
       "    </tr>\n",
       "    <tr>\n",
       "      <th>6669</th>\n",
       "      <td>3.9</td>\n",
       "      <td>Veg</td>\n",
       "      <td>Fog</td>\n",
       "      <td>Paper</td>\n",
       "      <td>0</td>\n",
       "      <td>Swargate</td>\n",
       "      <td>79.9</td>\n",
       "    </tr>\n",
       "    <tr>\n",
       "      <th>...</th>\n",
       "      <td>...</td>\n",
       "      <td>...</td>\n",
       "      <td>...</td>\n",
       "      <td>...</td>\n",
       "      <td>...</td>\n",
       "      <td>...</td>\n",
       "      <td>...</td>\n",
       "    </tr>\n",
       "    <tr>\n",
       "      <th>5734</th>\n",
       "      <td>4.2</td>\n",
       "      <td>Non-Veg</td>\n",
       "      <td>Fog</td>\n",
       "      <td>Plastic</td>\n",
       "      <td>2</td>\n",
       "      <td>Hadapsar</td>\n",
       "      <td>87.8</td>\n",
       "    </tr>\n",
       "    <tr>\n",
       "      <th>5191</th>\n",
       "      <td>3.0</td>\n",
       "      <td>Veg</td>\n",
       "      <td>Clear</td>\n",
       "      <td>Foil</td>\n",
       "      <td>3</td>\n",
       "      <td>Pimpri</td>\n",
       "      <td>18.0</td>\n",
       "    </tr>\n",
       "    <tr>\n",
       "      <th>5390</th>\n",
       "      <td>4.7</td>\n",
       "      <td>Veg</td>\n",
       "      <td>Clear</td>\n",
       "      <td>Paper</td>\n",
       "      <td>0</td>\n",
       "      <td>Pimpri</td>\n",
       "      <td>23.5</td>\n",
       "    </tr>\n",
       "    <tr>\n",
       "      <th>860</th>\n",
       "      <td>4.0</td>\n",
       "      <td>Veg</td>\n",
       "      <td>Storm</td>\n",
       "      <td>Plastic</td>\n",
       "      <td>0</td>\n",
       "      <td>Baner</td>\n",
       "      <td>53.1</td>\n",
       "    </tr>\n",
       "    <tr>\n",
       "      <th>7270</th>\n",
       "      <td>4.2</td>\n",
       "      <td>Non-Veg</td>\n",
       "      <td>Clear</td>\n",
       "      <td>Box</td>\n",
       "      <td>4</td>\n",
       "      <td>Hinjewadi</td>\n",
       "      <td>13.4</td>\n",
       "    </tr>\n",
       "  </tbody>\n",
       "</table>\n",
       "<p>8000 rows × 7 columns</p>\n",
       "</div>"
      ],
      "text/plain": [
       "      driver_rating food_type weather_condition packaging_type  \\\n",
       "9254            1.7   Non-Veg               Fog            Box   \n",
       "1561            4.4       Veg              Rain        Plastic   \n",
       "1670            4.0       Veg             Storm            Box   \n",
       "6087            1.2       Veg             Storm        Plastic   \n",
       "6669            3.9       Veg               Fog          Paper   \n",
       "...             ...       ...               ...            ...   \n",
       "5734            4.2   Non-Veg               Fog        Plastic   \n",
       "5191            3.0       Veg             Clear           Foil   \n",
       "5390            4.7       Veg             Clear          Paper   \n",
       "860             4.0       Veg             Storm        Plastic   \n",
       "7270            4.2   Non-Veg             Clear            Box   \n",
       "\n",
       "      customer_past_complaints         city  delivery_duration  \n",
       "9254                         3        Wakad               35.2  \n",
       "1561                         2      Kothrud               87.0  \n",
       "1670                         1       Pimpri               44.8  \n",
       "6087                         5  Viman Nagar               25.7  \n",
       "6669                         0     Swargate               79.9  \n",
       "...                        ...          ...                ...  \n",
       "5734                         2     Hadapsar               87.8  \n",
       "5191                         3       Pimpri               18.0  \n",
       "5390                         0       Pimpri               23.5  \n",
       "860                          0        Baner               53.1  \n",
       "7270                         4    Hinjewadi               13.4  \n",
       "\n",
       "[8000 rows x 7 columns]"
      ]
     },
     "execution_count": 26,
     "metadata": {},
     "output_type": "execute_result"
    }
   ],
   "source": [
    "x_train"
   ]
  },
  {
   "cell_type": "code",
   "execution_count": 28,
   "id": "25f44aa3-ed18-4e9c-b005-d7ccc87782b6",
   "metadata": {},
   "outputs": [
    {
     "data": {
      "text/plain": [
       "['driver_rating', 'customer_past_complaints', 'delivery_duration']"
      ]
     },
     "execution_count": 28,
     "metadata": {},
     "output_type": "execute_result"
    }
   ],
   "source": [
    "numerical_cols = x_train.select_dtypes(include=['int64', 'float64']).columns.tolist()\n",
    "numerical_cols\n"
   ]
  },
  {
   "cell_type": "code",
   "execution_count": 29,
   "id": "32f84b22-087b-4c99-9667-1bdd6a85790e",
   "metadata": {},
   "outputs": [
    {
     "data": {
      "text/html": [
       "<div>\n",
       "<style scoped>\n",
       "    .dataframe tbody tr th:only-of-type {\n",
       "        vertical-align: middle;\n",
       "    }\n",
       "\n",
       "    .dataframe tbody tr th {\n",
       "        vertical-align: top;\n",
       "    }\n",
       "\n",
       "    .dataframe thead th {\n",
       "        text-align: right;\n",
       "    }\n",
       "</style>\n",
       "<table border=\"1\" class=\"dataframe\">\n",
       "  <thead>\n",
       "    <tr style=\"text-align: right;\">\n",
       "      <th></th>\n",
       "      <th>driver_rating</th>\n",
       "      <th>food_type</th>\n",
       "      <th>weather_condition</th>\n",
       "      <th>packaging_type</th>\n",
       "      <th>customer_past_complaints</th>\n",
       "      <th>city</th>\n",
       "      <th>delivery_duration</th>\n",
       "    </tr>\n",
       "  </thead>\n",
       "  <tbody>\n",
       "    <tr>\n",
       "      <th>9254</th>\n",
       "      <td>1.7</td>\n",
       "      <td>Non-Veg</td>\n",
       "      <td>Fog</td>\n",
       "      <td>Box</td>\n",
       "      <td>3</td>\n",
       "      <td>Wakad</td>\n",
       "      <td>35.2</td>\n",
       "    </tr>\n",
       "    <tr>\n",
       "      <th>1561</th>\n",
       "      <td>4.4</td>\n",
       "      <td>Veg</td>\n",
       "      <td>Rain</td>\n",
       "      <td>Plastic</td>\n",
       "      <td>2</td>\n",
       "      <td>Kothrud</td>\n",
       "      <td>87.0</td>\n",
       "    </tr>\n",
       "    <tr>\n",
       "      <th>1670</th>\n",
       "      <td>4.0</td>\n",
       "      <td>Veg</td>\n",
       "      <td>Storm</td>\n",
       "      <td>Box</td>\n",
       "      <td>1</td>\n",
       "      <td>Pimpri</td>\n",
       "      <td>44.8</td>\n",
       "    </tr>\n",
       "    <tr>\n",
       "      <th>6087</th>\n",
       "      <td>1.2</td>\n",
       "      <td>Veg</td>\n",
       "      <td>Storm</td>\n",
       "      <td>Plastic</td>\n",
       "      <td>5</td>\n",
       "      <td>Viman Nagar</td>\n",
       "      <td>25.7</td>\n",
       "    </tr>\n",
       "    <tr>\n",
       "      <th>6669</th>\n",
       "      <td>3.9</td>\n",
       "      <td>Veg</td>\n",
       "      <td>Fog</td>\n",
       "      <td>Paper</td>\n",
       "      <td>0</td>\n",
       "      <td>Swargate</td>\n",
       "      <td>79.9</td>\n",
       "    </tr>\n",
       "    <tr>\n",
       "      <th>...</th>\n",
       "      <td>...</td>\n",
       "      <td>...</td>\n",
       "      <td>...</td>\n",
       "      <td>...</td>\n",
       "      <td>...</td>\n",
       "      <td>...</td>\n",
       "      <td>...</td>\n",
       "    </tr>\n",
       "    <tr>\n",
       "      <th>5734</th>\n",
       "      <td>4.2</td>\n",
       "      <td>Non-Veg</td>\n",
       "      <td>Fog</td>\n",
       "      <td>Plastic</td>\n",
       "      <td>2</td>\n",
       "      <td>Hadapsar</td>\n",
       "      <td>87.8</td>\n",
       "    </tr>\n",
       "    <tr>\n",
       "      <th>5191</th>\n",
       "      <td>3.0</td>\n",
       "      <td>Veg</td>\n",
       "      <td>Clear</td>\n",
       "      <td>Foil</td>\n",
       "      <td>3</td>\n",
       "      <td>Pimpri</td>\n",
       "      <td>18.0</td>\n",
       "    </tr>\n",
       "    <tr>\n",
       "      <th>5390</th>\n",
       "      <td>4.7</td>\n",
       "      <td>Veg</td>\n",
       "      <td>Clear</td>\n",
       "      <td>Paper</td>\n",
       "      <td>0</td>\n",
       "      <td>Pimpri</td>\n",
       "      <td>23.5</td>\n",
       "    </tr>\n",
       "    <tr>\n",
       "      <th>860</th>\n",
       "      <td>4.0</td>\n",
       "      <td>Veg</td>\n",
       "      <td>Storm</td>\n",
       "      <td>Plastic</td>\n",
       "      <td>0</td>\n",
       "      <td>Baner</td>\n",
       "      <td>53.1</td>\n",
       "    </tr>\n",
       "    <tr>\n",
       "      <th>7270</th>\n",
       "      <td>4.2</td>\n",
       "      <td>Non-Veg</td>\n",
       "      <td>Clear</td>\n",
       "      <td>Box</td>\n",
       "      <td>4</td>\n",
       "      <td>Hinjewadi</td>\n",
       "      <td>13.4</td>\n",
       "    </tr>\n",
       "  </tbody>\n",
       "</table>\n",
       "<p>8000 rows × 7 columns</p>\n",
       "</div>"
      ],
      "text/plain": [
       "      driver_rating food_type weather_condition packaging_type  \\\n",
       "9254            1.7   Non-Veg               Fog            Box   \n",
       "1561            4.4       Veg              Rain        Plastic   \n",
       "1670            4.0       Veg             Storm            Box   \n",
       "6087            1.2       Veg             Storm        Plastic   \n",
       "6669            3.9       Veg               Fog          Paper   \n",
       "...             ...       ...               ...            ...   \n",
       "5734            4.2   Non-Veg               Fog        Plastic   \n",
       "5191            3.0       Veg             Clear           Foil   \n",
       "5390            4.7       Veg             Clear          Paper   \n",
       "860             4.0       Veg             Storm        Plastic   \n",
       "7270            4.2   Non-Veg             Clear            Box   \n",
       "\n",
       "      customer_past_complaints         city  delivery_duration  \n",
       "9254                         3        Wakad               35.2  \n",
       "1561                         2      Kothrud               87.0  \n",
       "1670                         1       Pimpri               44.8  \n",
       "6087                         5  Viman Nagar               25.7  \n",
       "6669                         0     Swargate               79.9  \n",
       "...                        ...          ...                ...  \n",
       "5734                         2     Hadapsar               87.8  \n",
       "5191                         3       Pimpri               18.0  \n",
       "5390                         0       Pimpri               23.5  \n",
       "860                          0        Baner               53.1  \n",
       "7270                         4    Hinjewadi               13.4  \n",
       "\n",
       "[8000 rows x 7 columns]"
      ]
     },
     "execution_count": 29,
     "metadata": {},
     "output_type": "execute_result"
    }
   ],
   "source": [
    "x_train"
   ]
  },
  {
   "cell_type": "code",
   "execution_count": 30,
   "id": "bf766f11-84aa-43dc-a1f4-6970fae8aeb3",
   "metadata": {},
   "outputs": [],
   "source": [
    "preprocessor = ColumnTransformer([\n",
    "    ('num', StandardScaler(), numerical_cols),\n",
    "    ('cat', OneHotEncoder(), cat_cols)\n",
    "])"
   ]
  },
  {
   "cell_type": "code",
   "execution_count": 31,
   "id": "ac884c0a-2e47-4a23-a0e8-9fca383493f8",
   "metadata": {},
   "outputs": [],
   "source": [
    "x_train_transformed = preprocessor.fit_transform(x_train)\n",
    "x_test_transformed = preprocessor.transform(x_test)\n"
   ]
  },
  {
   "cell_type": "code",
   "execution_count": 32,
   "id": "ee5d5606-77ce-4cf7-a159-ae62b81b0398",
   "metadata": {},
   "outputs": [],
   "source": [
    "# Balance and scale data properly\n",
    "smote = SMOTE(random_state=42)\n",
    "x_train_balanced, y_train_balanced = smote.fit_resample(x_train_transformed, y_train)"
   ]
  },
  {
   "cell_type": "code",
   "execution_count": 33,
   "id": "2bd70944-8beb-402f-a045-a0e0d2a8df14",
   "metadata": {},
   "outputs": [
    {
     "name": "stdout",
     "output_type": "stream",
     "text": [
      "Model: Logistic Regression\n",
      "Model Performance For Training Set\n",
      "- Accuracy: 0.6507\n",
      "- F1 score: 0.6518\n",
      "- Precision: 0.6497\n",
      "- Recall:  0.6538\n",
      "- Roc Auc Score: 0.6507\n",
      "--------------------------------\n",
      "Model Performance For Test Set\n",
      "- Accuracy: 0.6310\n",
      "- F1 score: 0.5495\n",
      "- Precision: 0.4752\n",
      "- Recall:  0.6512\n",
      "- Roc Auc Score: 0.6358\n",
      "***********************************\n",
      "\n",
      "\n",
      "Model: Decision Tree\n",
      "Model Performance For Training Set\n",
      "- Accuracy: 1.0000\n",
      "- F1 score: 1.0000\n",
      "- Precision: 1.0000\n",
      "- Recall:  1.0000\n",
      "- Roc Auc Score: 1.0000\n",
      "--------------------------------\n",
      "Model Performance For Test Set\n",
      "- Accuracy: 0.5940\n",
      "- F1 score: 0.4528\n",
      "- Precision: 0.4237\n",
      "- Recall:  0.4863\n",
      "- Roc Auc Score: 0.5686\n",
      "***********************************\n",
      "\n",
      "\n",
      "Model: Random Forest\n",
      "Model Performance For Training Set\n",
      "- Accuracy: 1.0000\n",
      "- F1 score: 1.0000\n",
      "- Precision: 1.0000\n",
      "- Recall:  1.0000\n",
      "- Roc Auc Score: 1.0000\n",
      "--------------------------------\n",
      "Model Performance For Test Set\n",
      "- Accuracy: 0.6525\n",
      "- F1 score: 0.5116\n",
      "- Precision: 0.4973\n",
      "- Recall:  0.5268\n",
      "- Roc Auc Score: 0.6228\n",
      "***********************************\n",
      "\n",
      "\n",
      "Model: Ada Boost Classifier\n",
      "Model Performance For Training Set\n",
      "- Accuracy: 0.6897\n",
      "- F1 score: 0.6745\n",
      "- Precision: 0.7093\n",
      "- Recall:  0.6429\n",
      "- Roc Auc Score: 0.6897\n",
      "--------------------------------\n",
      "Model Performance For Test Set\n",
      "- Accuracy: 0.6735\n",
      "- F1 score: 0.5567\n",
      "- Precision: 0.5243\n",
      "- Recall:  0.5933\n",
      "- Roc Auc Score: 0.6546\n",
      "***********************************\n",
      "\n",
      "\n",
      "Model: Gradient Boosting\n",
      "Model Performance For Training Set\n",
      "- Accuracy: 0.7482\n",
      "- F1 score: 0.7451\n",
      "- Precision: 0.7544\n",
      "- Recall:  0.7359\n",
      "- Roc Auc Score: 0.7482\n",
      "--------------------------------\n",
      "Model Performance For Test Set\n",
      "- Accuracy: 0.6860\n",
      "- F1 score: 0.5657\n",
      "- Precision: 0.5417\n",
      "- Recall:  0.5919\n",
      "- Roc Auc Score: 0.6638\n",
      "***********************************\n",
      "\n",
      "\n",
      "Model: XGBClassifier\n",
      "Model Performance For Training Set\n",
      "- Accuracy: 0.8850\n",
      "- F1 score: 0.8819\n",
      "- Precision: 0.9058\n",
      "- Recall:  0.8593\n",
      "- Roc Auc Score: 0.8850\n",
      "--------------------------------\n",
      "Model Performance For Test Set\n",
      "- Accuracy: 0.6595\n",
      "- F1 score: 0.5241\n",
      "- Precision: 0.5068\n",
      "- Recall:  0.5427\n",
      "- Roc Auc Score: 0.6319\n",
      "***********************************\n",
      "\n",
      "\n"
     ]
    }
   ],
   "source": [
    "models={\n",
    "    \"Decision Tree\": DecisionTreeClassifier(),\n",
    "    \"Random Forest\": RandomForestClassifier(),\n",
    "    \"Ada Boost Classifier\": AdaBoostClassifier(),\n",
    "    \"Gradient Boosting\": GradientBoostingClassifier(),\n",
    "    \"XGBClassifier\": XGBClassifier()\n",
    "}\n",
    "\n",
    "for i in range(len(models)):\n",
    "    model_name = list(models.keys())[i]\n",
    "    model = list(models.values())[i]\n",
    "    \n",
    "    # Train model\n",
    "    model.fit(x_train_balanced, y_train_balanced)\n",
    "    \n",
    "    # Predict on train and test\n",
    "    y_train_pred = model.predict(x_train_balanced)\n",
    "    y_test_pred = model.predict(x_test_transformed)\n",
    "\n",
    "    # Evaluate on TRAIN set\n",
    "    model_train_accuracy = accuracy_score(y_train_balanced, y_train_pred)\n",
    "    model_train_f1 = f1_score(y_train_balanced, y_train_pred)\n",
    "    model_train_precision = precision_score(y_train_balanced, y_train_pred)\n",
    "    model_train_recall = recall_score(y_train_balanced, y_train_pred)\n",
    "    model_train_rocauc_score = roc_auc_score(y_train_balanced, y_train_pred)\n",
    "\n",
    "    # Evaluate on TEST set\n",
    "    model_test_accuracy = accuracy_score(y_test, y_test_pred)\n",
    "    model_test_f1 = f1_score(y_test, y_test_pred)\n",
    "    model_test_precision = precision_score(y_test, y_test_pred)\n",
    "    model_test_recall = recall_score(y_test, y_test_pred)\n",
    "    model_test_rocauc_score = roc_auc_score(y_test, y_test_pred)\n",
    "\n",
    "    # Print results\n",
    "    print(f\"Model: {model_name}\")\n",
    "    print(\"Model Performance For Training Set\")\n",
    "    print(\"- Accuracy: {:.4f}\".format(model_train_accuracy))\n",
    "    print(\"- F1 score: {:.4f}\".format(model_train_f1))\n",
    "    print(\"- Precision: {:.4f}\".format(model_train_precision))\n",
    "    print(\"- Recall:  {:.4f}\".format(model_train_recall))\n",
    "    print(\"- Roc Auc Score: {:.4f}\".format(model_train_rocauc_score))\n",
    "    print(\"--------------------------------\")\n",
    "    print(\"Model Performance For Test Set\")\n",
    "    print(\"- Accuracy: {:.4f}\".format(model_test_accuracy))\n",
    "    print(\"- F1 score: {:.4f}\".format(model_test_f1))\n",
    "    print(\"- Precision: {:.4f}\".format(model_test_precision))\n",
    "    print(\"- Recall:  {:.4f}\".format(model_test_recall))\n",
    "    print(\"- Roc Auc Score: {:.4f}\".format(model_test_rocauc_score))\n",
    "    print('*' * 35)\n",
    "    print('\\n')\n"
   ]
  },
  {
   "cell_type": "markdown",
   "id": "c5443f16-979d-44d4-ac21-d2580cdf9d8c",
   "metadata": {},
   "source": [
    "# Hyperparameter Tunning Using Grid Search CV"
   ]
  },
  {
   "cell_type": "code",
   "execution_count": 36,
   "id": "4296c237-e75c-4bb1-918c-205a81ee8bf9",
   "metadata": {},
   "outputs": [
    {
     "name": "stdout",
     "output_type": "stream",
     "text": [
      "Fitting 5 folds for each of 36 candidates, totalling 180 fits\n",
      "Gradient Boosting (After Tuning)\n",
      "Model Performance For Training Set\n",
      "- Accuracy: 0.7632\n",
      "- F1 score: 0.7610\n",
      "- Precision: 0.7681\n",
      "- Recall:  0.7540\n",
      "- ROC AUC Score: 0.7632\n",
      "--------------------------------\n",
      "Model Performance For Test Set\n",
      "- Accuracy: 0.6745\n",
      "- F1 score: 0.5513\n",
      "- Precision: 0.5263\n",
      "- Recall:  0.5789\n",
      "- ROC AUC Score: 0.6519\n",
      "***********************************\n",
      "\n"
     ]
    }
   ],
   "source": [
    "from sklearn.model_selection import GridSearchCV\n",
    "\n",
    "# 1. Define parameter grid for tuning\n",
    "param_grid = {\n",
    "    'n_estimators': [100, 200],\n",
    "    'learning_rate': [0.01, 0.05, 0.1],\n",
    "    'max_depth': [3, 4, 5],\n",
    "    'subsample': [0.8, 1.0]\n",
    "}\n",
    "\n",
    "# 2. Initialize base model\n",
    "base_model = GradientBoostingClassifier(random_state=42)\n",
    "\n",
    "# 3. GridSearchCV setup\n",
    "grid_search = GridSearchCV(estimator=base_model, param_grid=param_grid,\n",
    "                           scoring='f1', cv=5, n_jobs=-1, verbose=0)\n",
    "\n",
    "# 4. Fit on training data\n",
    "grid_search.fit(x_train_balanced, y_train_balanced)\n",
    "\n",
    "# 5. Use the best model\n",
    "best_model = grid_search.best_estimator_\n",
    "\n",
    "# 6. Predictions\n",
    "y_train_pred = best_model.predict(x_train_balanced)\n",
    "y_test_pred = best_model.predict(x_test_transformed)\n",
    "\n",
    "# 7. Training performance\n",
    "model_train_accuracy = accuracy_score(y_train_balanced, y_train_pred)\n",
    "model_train_f1 = f1_score(y_train_balanced, y_train_pred)\n",
    "model_train_precision = precision_score(y_train_balanced, y_train_pred)\n",
    "model_train_recall = recall_score(y_train_balanced, y_train_pred)\n",
    "model_train_rocauc_score = roc_auc_score(y_train_balanced, y_train_pred)\n",
    "\n",
    "# 8. Testing performance\n",
    "model_test_accuracy = accuracy_score(y_test, y_test_pred)\n",
    "model_test_f1 = f1_score(y_test, y_test_pred)\n",
    "model_test_precision = precision_score(y_test, y_test_pred)\n",
    "model_test_recall = recall_score(y_test, y_test_pred)\n",
    "model_test_rocauc_score = roc_auc_score(y_test, y_test_pred)\n",
    "\n",
    "# 9. Output\n",
    "print(\"Gradient Boosting (After Tuning)\")\n",
    "print(\"Model Performance For Training Set\")\n",
    "print(\"- Accuracy: {:.4f}\".format(model_train_accuracy))\n",
    "print(\"- F1 score: {:.4f}\".format(model_train_f1))\n",
    "print(\"- Precision: {:.4f}\".format(model_train_precision))\n",
    "print(\"- Recall:  {:.4f}\".format(model_train_recall))\n",
    "print(\"- ROC AUC Score: {:.4f}\".format(model_train_rocauc_score))\n",
    "print(\"--------------------------------\")\n",
    "print(\"Model Performance For Test Set\")\n",
    "print(\"- Accuracy: {:.4f}\".format(model_test_accuracy))\n",
    "print(\"- F1 score: {:.4f}\".format(model_test_f1))\n",
    "print(\"- Precision: {:.4f}\".format(model_test_precision))\n",
    "print(\"- Recall:  {:.4f}\".format(model_test_recall))\n",
    "print(\"- ROC AUC Score: {:.4f}\".format(model_test_rocauc_score))\n",
    "print(\"*\" * 35 + '\\n') \n"
   ]
  },
  {
   "cell_type": "code",
   "execution_count": 33,
   "id": "493c769b-6b4c-4adb-96ef-71299892f238",
   "metadata": {},
   "outputs": [
    {
     "data": {
      "text/plain": [
       "['Food_Prediction_Complaint.joblib']"
      ]
     },
     "execution_count": 33,
     "metadata": {},
     "output_type": "execute_result"
    }
   ],
   "source": [
    "joblib.dump(model,'Food_Prediction_Complaint.joblib')"
   ]
  },
  {
   "cell_type": "code",
   "execution_count": 34,
   "id": "2041fee6-4978-45f2-94fa-3316dd9e354b",
   "metadata": {},
   "outputs": [
    {
     "data": {
      "text/plain": [
       "['Preprocessor.joblib']"
      ]
     },
     "execution_count": 34,
     "metadata": {},
     "output_type": "execute_result"
    }
   ],
   "source": [
    "joblib.dump(preprocessor,'Preprocessor.joblib')"
   ]
  },
  {
   "cell_type": "code",
   "execution_count": null,
   "id": "6b5c1181-b73e-489c-bee5-ff3874c76669",
   "metadata": {},
   "outputs": [],
   "source": []
  },
  {
   "cell_type": "code",
   "execution_count": null,
   "id": "281726ff-49a3-4697-91c9-b4f795803322",
   "metadata": {},
   "outputs": [],
   "source": []
  },
  {
   "cell_type": "code",
   "execution_count": null,
   "id": "c718f952-918f-42a0-b7e5-9ba99fd4bc45",
   "metadata": {},
   "outputs": [],
   "source": []
  }
 ],
 "metadata": {
  "kernelspec": {
   "display_name": "Python 3 (ipykernel)",
   "language": "python",
   "name": "python3"
  },
  "language_info": {
   "codemirror_mode": {
    "name": "ipython",
    "version": 3
   },
   "file_extension": ".py",
   "mimetype": "text/x-python",
   "name": "python",
   "nbconvert_exporter": "python",
   "pygments_lexer": "ipython3",
   "version": "3.13.2"
  }
 },
 "nbformat": 4,
 "nbformat_minor": 5
}
